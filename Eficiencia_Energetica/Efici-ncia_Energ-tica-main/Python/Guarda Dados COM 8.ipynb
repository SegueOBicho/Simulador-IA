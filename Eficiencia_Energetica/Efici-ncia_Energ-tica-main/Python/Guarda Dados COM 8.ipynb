{
 "cells": [
  {
   "cell_type": "code",
   "execution_count": null,
   "id": "a7b2a69a",
   "metadata": {},
   "outputs": [],
   "source": [
    "import serial\n",
    "import csv\n",
    "\n",
    "executando = True\n",
    "contador = 0\n",
    "\n",
    "porta_serial = serial.Serial('COM8', 9600)  # Substitua 'COM3' pela porta correta do seu Arduino\n",
    "nome_arquivo = 'dados.csv'\n",
    "\n",
    "with open(nome_arquivo, mode='w', newline='') as arquivo_csv:\n",
    "    escritor_csv = csv.writer(arquivo_csv)\n",
    "    while executando:\n",
    "        linha = porta_serial.readline().decode().strip()\n",
    "        contador = contador + 1\n",
    "        if linha:\n",
    "            valores = linha.split(',')\n",
    "            escritor_csv.writerow(valores)\n",
    "        if contador > 10:\n",
    "            executando = False\n",
    "            print(\"finished\")"
   ]
  },
  {
   "cell_type": "code",
   "execution_count": null,
   "id": "546f3905",
   "metadata": {},
   "outputs": [],
   "source": []
  }
 ],
 "metadata": {
  "kernelspec": {
   "display_name": "Python 3 (ipykernel)",
   "language": "python",
   "name": "python3"
  },
  "language_info": {
   "codemirror_mode": {
    "name": "ipython",
    "version": 3
   },
   "file_extension": ".py",
   "mimetype": "text/x-python",
   "name": "python",
   "nbconvert_exporter": "python",
   "pygments_lexer": "ipython3",
   "version": "3.11.3"
  }
 },
 "nbformat": 4,
 "nbformat_minor": 5
}
